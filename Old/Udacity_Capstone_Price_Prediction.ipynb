{
 "cells": [
  {
   "cell_type": "code",
   "execution_count": 1,
   "metadata": {},
   "outputs": [],
   "source": [
    "import pandas as pd\n",
    "import numpy as np\n",
    "import torch\n",
    "from torch import nn\n",
    "from torch import optim\n",
    "import torch.nn.functional as F\n"
   ]
  },
  {
   "cell_type": "code",
   "execution_count": 2,
   "metadata": {},
   "outputs": [],
   "source": [
    "texts = 'The electrical telegraph systems, developed in the early 19th century, used simple electrical signals to send text messages. In the late 19th century, the wireless telegraphy was developed using radio waves. In 1933, the German Reichspost (Reich postal service) introduced the first \"telex\" service.\\\n",
    "The University of Hawaii began using radio to send digital information as early as 1971, using ALOHAnet.[citation needed] Friedhelm Hillebrand conceptualised SMS in 1984 while working for Deutsche Telekom. Sitting at a typewriter at home, Hillebrand typed out random sentences and counted every letter, number, punctuation, and space. Almost every time, the messages contained fewer than 160 characters, thus giving the basis for the limit one could type via text messaging.[4] With Bernard Ghillebaert of France Télécom, he developed a proposal for the GSM (Groupe Spécial Mobile) meeting in February 1985 in Oslo.[5] The first technical solution evolved in a GSM subgroup under the leadership of Finn Trosby. It was further developed under the leadership of Kevin Holley and Ian Harris (see Short Message Service).[6] SMS forms an integral part of Signalling System No. 7 (SS7).[7] Under SS7, it is a \"state\" with a 160 character data, coded in the ITU-T \"T.56\" text format, that has a \"sequence lead in\" to determine different language codes and may have special character codes that permit, for example, sending simple graphs as text. This was part of ISDN (Integrated Services Digital Network) and since GSM is based on this, it made its way to the mobile phone. Messages could be sent and received on ISDN phones, and these can send SMS to any GSM phone. The possibility of doing something is one thing, implementing it another, but systems existed from 1988 that sent SMS messages to mobile phones[citation needed] (compare ND-NOTIS).\\\n",
    "SMS messaging was used for the first time on 3 December 1992, when Neil Papworth, a 22-year-old test engineer for Sema Group in the UK[9] (now Airwide Solutions),[10] used a personal computer to send the text message \"Merry Christmas\" via the Vodafone network to the phone of Richard Jarvis,[11][12] who was at a party in Newbury, Berkshire, which had been organized to celebrate the event. Modern SMS text messaging is usually messaging from one mobile phone to another. Finnish Radiolinja became the first network to offer a commercial person-to-person SMS text messaging service in 1994. When Radiolinjas domestic competitor, Telecom Finland (now part of TeliaSonera) also launched SMS text messaging in 1995 and the two networks offered cross-network SMS functionality, Finland became the first nation where SMS text messaging was offered on a competitive as well as on a commercial basis. GSM was allowed[by whom?] in the United States and the radio frequencies were blocked and awarded to US \"Carriers\" to use US technology. Hence there is no \"development\" in the US in mobile messaging service. The GSM in the US had to use a frequency allocated for private communication services (PCS) – what the ITU frequency régime had blocked for DECT – Digital Enhanced Cordless Telecommunications – 1000-feet range picocell, but survived. American Personal Communications (APC), the first GSM carrier in America, provided the first text-messaging service in the United States. Sprint Telecommunications Venture, a partnership of Sprint Corp. and three large cable-TV companies, owned 49 percent of APC. The Sprint venture was the largest single buyer at a government-run spectrum auction that raised $7.7 billion in 2005 for PCS licenses. APC operated under the brand name of Sprint Spectrum and launched its service on 15 November 1995, in Washington, D.C. and in Baltimore, Maryland. Vice President Al Gore in Washington, D.C. made the initial phone-call to launch the network, calling Mayor Kurt Schmoke in Baltimore.[13]\\\n",
    "Initial growth of text messaging[where?] was slow, with customers in 1995 sending on average only 0.4 messages per GSM customer per month.[14] One factor in the slow take-up of SMS was that operators were slow to set up charging systems, especially for prepaid subscribers, and to eliminate billing fraud, which was possible by changing SMSC settings on individual handsets to use the SMSCs of other operators.[citation needed] Over time, this issue was eliminated by switch billing instead of billing at the SMSC and by new features within SMSCs to allow blocking of foreign mobile users sending messages through it.[citation needed] SMS is available on a wide range of networks, including 3G networks. However, not all text-messaging systems use SMS; some notable alternate implementations of the concept include J-Phones SkyMail and NTT Docomos Short Mail, both in Japan. E-mail messaging from phones, as popularized by NTT Docomos i-mode and the RIM BlackBerry, also typically use standard mail protocols such as SMTP over TCP/IP.[15] As of 2007 text messaging was the most widely used mobile data service, with 74% of all mobile phone users worldwide, or 2.4 billion out of 3.3 billion phone subscribers, at the end of 2007 being active users of the Short Message Service. In countries such as Finland, Sweden, and Norway, over 85% of the population use SMS. The European average is about 80%, and North America is rapidly catching up with over 60% active users of SMS by end of 2008.[citation needed] The largest average usage of the service by mobile phone subscribers occurs in the Philippines, with an average of 27 texts sent per day per subscriber.[citation needed]\\\n",
    "Uses[edit]\\\n",
    "A text message on an iPhone announcing an AMBER Alert\\\n",
    "Text messaging is most often used between private mobile phone users, as a substitute for voice calls in situations where voice communication is impossible or undesirable (e.g., during a school class or a work meeting). Texting is also used to communicate very brief messages, such as informing someone that you will be late or reminding a friend or colleague about a meeting. As with e-mail, informality and brevity have become an accepted part of text messaging. Some text messages such as SMS can also be used for the remote control of home appliances. It is widely used in domotics systems. Some amateurs have also built their own systems to control (some of) their appliances via SMS.[16][17] Other methods such as group messaging, which was patented in 2012 by the GM of Andrew Ferry, Devin Peterson, Justin Cowart, Ian Ainsworth, Patrick Messinger, Jacob Delk, Jack Grande, Austin Hughes, Brendan Blake, and Brooks Brasher are used to involve more than two people into a text messaging conversation[citation needed]. A Flash SMS is a type[18] of text message that appears directly on the main screen without user interaction and is not automatically stored in the inbox. It can be useful in cases such as an emergency (e.g., fire alarm) or confidentiality (e.g., one-time password).[19]\\\n",
    "Short message services are developing very rapidly throughout the world. SMS is particularly popular in Europe, Asia (excluding Japan; see below), United States, Australia, and New Zealand and is also gaining influence in Africa. Popularity has grown to a sufficient extent that the term texting (used as a verb meaning the act of mobile phone users sending short messages back and forth) has entered the common lexicon. Young Asians consider SMS as the most popular mobile phone application.[20] Fifty percent of American teens send fifty text messages or more per day, making it their most frequent form of communication.[21] In China, SMS is very popular and has brought service providers significant profit (18 billion short messages were sent in 2001).[22]\\\n",
    "It is a very influential and powerful tool in the Philippines, where the average user sends 10–12 text messages a day. The Philippines alone sends on average over 1 billion text messages a day,[23] more than the annual average SMS volume of the countries in Europe, and even China and India. SMS is hugely popular in India, where youngsters often exchange many text messages, and companies provide alerts, infotainment, news, cricket scores updates, railway/airline booking, mobile billing, and banking services on SMS.\\\n",
    "Similarly, in 2008, text messaging played a primary role in the implication of former Detroit Mayor Kwame Kilpatrick in an SMS sex scandal.[24] Short messages are particularly popular among young urbanites. In many markets, the service is comparatively cheap. For example, in Australia, a message typically costs between A$0.20 and $0.25 to send (some prepaid services charge $0.01 between their own phones), compared with a voice call, which costs somewhere between $0.40 and $2.00 per minute (commonly charged in half-minute blocks). The service is enormously profitable to the service providers. At a typical length of only 190 bytes (including protocol overhead), more than 350 of these messages per minute can be transmitted at the same data rate as a usual voice call (9 kbit/s). There are also free SMS services available, which are often sponsored, that allow sending[25] and receiving[26] SMS from a PC connected to the Internet. Mobile service providers in New Zealand, such as Vodafone and Telecom NZ, provide up to 2000 SMS messages for NZ$10 per month. Users on these plans send on average 1500 SMS messages every month. Text messaging has become so popular that advertising agencies and advertisers are now jumping into the text messaging business. Services that provide bulk text message sending are also becoming a popular way for clubs, associations, and advertisers to reach a group of opt-in subscribers quickly.\\\n",
    "Research suggests that Internet-based mobile messaging will have grown to equal the popularity of SMS in 2013, with nearly 10 trillion messages being sent through each technology.[27][28] Services such as Facebook Messenger, Snapchat, WhatsApp and Viber have led to a decline in the use of SMS in parts of the world.\\\n",
    "Research has shown that women are more likely than men to use emoticons in text messages.[29]\\\n",
    "The electrical telegraph systems, developed in the early 19th century, used simple electrical signals to send text messages. In the late 19th century, the wireless telegraphy was developed using radio waves. In 1933, the German Reichspost (Reich postal service) introduced the first \"telex\" service.\\\n",
    "The University of Hawaii began using radio to send digital information as early as 1971, using ALOHAnet.[citation needed] Friedhelm Hillebrand conceptualised SMS in 1984 while working for Deutsche Telekom. Sitting at a typewriter at home, Hillebrand typed out random sentences and counted every letter, number, punctuation, and space. Almost every time, the messages contained fewer than 160 characters, thus giving the basis for the limit one could type via text messaging.[4] With Bernard Ghillebaert of France Télécom, he developed a proposal for the GSM (Groupe Spécial Mobile) meeting in February 1985 in Oslo.[5] The first technical solution evolved in a GSM subgroup under the leadership of Finn Trosby. It was further developed under the leadership of Kevin Holley and Ian Harris (see Short Message Service).[6] SMS forms an integral part of Signalling System No. 7 (SS7).[7] Under SS7, it is a \"state\" with a 160 character data, coded in the ITU-T \"T.56\" text format, that has a \"sequence lead in\" to determine different language codes and may have special character codes that permit, for example, sending simple graphs as text. This was part of ISDN (Integrated Services Digital Network) and since GSM is based on this, it made its way to the mobile phone. Messages could be sent and received on ISDN phones, and these can send SMS to any GSM phone. The possibility of doing something is one thing, implementing it another, but systems existed from 1988 that sent SMS messages to mobile phones[citation needed] (compare ND-NOTIS).\\\n",
    "SMS messaging was used for the first time on 3 December 1992, when Neil Papworth, a 22-year-old test engineer for Sema Group in the UK[9] (now Airwide Solutions),[10] used a personal computer to send the text message \"Merry Christmas\" via the Vodafone network to the phone of Richard Jarvis,[11][12] who was at a party in Newbury, Berkshire, which had been organized to celebrate the event. Modern SMS text messaging is usually messaging from one mobile phone to another. Finnish Radiolinja became the first network to offer a commercial person-to-person SMS text messaging service in 1994. When Radiolinjas domestic competitor, Telecom Finland (now part of TeliaSonera) also launched SMS text messaging in 1995 and the two networks offered cross-network SMS functionality, Finland became the first nation where SMS text messaging was offered on a competitive as well as on a commercial basis. GSM was allowed[by whom?] in the United States and the radio frequencies were blocked and awarded to US \"Carriers\" to use US technology. Hence there is no \"development\" in the US in mobile messaging service. The GSM in the US had to use a frequency allocated for private communication services (PCS) – what the ITU frequency régime had blocked for DECT – Digital Enhanced Cordless Telecommunications – 1000-feet range picocell, but survived. American Personal Communications (APC), the first GSM carrier in America, provided the first text-messaging service in the United States. Sprint Telecommunications Venture, a partnership of Sprint Corp. and three large cable-TV companies, owned 49 percent of APC. The Sprint venture was the largest single buyer at a government-run spectrum auction that raised $7.7 billion in 2005 for PCS licenses. APC operated under the brand name of Sprint Spectrum and launched its service on 15 November 1995, in Washington, D.C. and in Baltimore, Maryland. Vice President Al Gore in Washington, D.C. made the initial phone-call to launch the network, calling Mayor Kurt Schmoke in Baltimore.[13]\\\n",
    "Initial growth of text messaging[where?] was slow, with customers in 1995 sending on average only 0.4 messages per GSM customer per month.[14] One factor in the slow take-up of SMS was that operators were slow to set up charging systems, especially for prepaid subscribers, and to eliminate billing fraud, which was possible by changing SMSC settings on individual handsets to use the SMSCs of other operators.[citation needed] Over time, this issue was eliminated by switch billing instead of billing at the SMSC and by new features within SMSCs to allow blocking of foreign mobile users sending messages through it.[citation needed] SMS is available on a wide range of networks, including 3G networks. However, not all text-messaging systems use SMS; some notable alternate implementations of the concept include J-Phones SkyMail and NTT Docomos Short Mail, both in Japan. E-mail messaging from phones, as popularized by NTT Docomos i-mode and the RIM BlackBerry, also typically use standard mail protocols such as SMTP over TCP/IP.[15] As of 2007 text messaging was the most widely used mobile data service, with 74% of all mobile phone users worldwide, or 2.4 billion out of 3.3 billion phone subscribers, at the end of 2007 being active users of the Short Message Service. In countries such as Finland, Sweden, and Norway, over 85% of the population use SMS. The European average is about 80%, and North America is rapidly catching up with over 60% active users of SMS by end of 2008.[citation needed] The largest average usage of the service by mobile phone subscribers occurs in the Philippines, with an average of 27 texts sent per day per subscriber.[citation needed]\\\n",
    "Uses[edit]\\\n",
    "A text message on an iPhone announcing an AMBER Alert\\\n",
    "Text messaging is most often used between private mobile phone users, as a substitute for voice calls in situations where voice communication is impossible or undesirable (e.g., during a school class or a work meeting). Texting is also used to communicate very brief messages, such as informing someone that you will be late or reminding a friend or colleague about a meeting. As with e-mail, informality and brevity have become an accepted part of text messaging. Some text messages such as SMS can also be used for the remote control of home appliances. It is widely used in domotics systems. Some amateurs have also built their own systems to control (some of) their appliances via SMS.[16][17] Other methods such as group messaging, which was patented in 2012 by the GM of Andrew Ferry, Devin Peterson, Justin Cowart, Ian Ainsworth, Patrick Messinger, Jacob Delk, Jack Grande, Austin Hughes, Brendan Blake, and Brooks Brasher are used to involve more than two people into a text messaging conversation[citation needed]. A Flash SMS is a type[18] of text message that appears directly on the main screen without user interaction and is not automatically stored in the inbox. It can be useful in cases such as an emergency (e.g., fire alarm) or confidentiality (e.g., one-time password).[19]\\\n",
    "Short message services are developing very rapidly throughout the world. SMS is particularly popular in Europe, Asia (excluding Japan; see below), United States, Australia, and New Zealand and is also gaining influence in Africa. Popularity has grown to a sufficient extent that the term texting (used as a verb meaning the act of mobile phone users sending short messages back and forth) has entered the common lexicon. Young Asians consider SMS as the most popular mobile phone application.[20] Fifty percent of American teens send fifty text messages or more per day, making it their most frequent form of communication.[21] In China, SMS is very popular and has brought service providers significant profit (18 billion short messages were sent in 2001).[22]\\\n",
    "It is a very influential and powerful tool in the Philippines, where the average user sends 10–12 text messages a day. The Philippines alone sends on average over 1 billion text messages a day,[23] more than the annual average SMS volume of the countries in Europe, and even China and India. SMS is hugely popular in India, where youngsters often exchange many text messages, and companies provide alerts, infotainment, news, cricket scores updates, railway/airline booking, mobile billing, and banking services on SMS.\\\n",
    "Similarly, in 2008, text messaging played a primary role in the implication of former Detroit Mayor Kwame Kilpatrick in an SMS sex scandal.[24] Short messages are particularly popular among young urbanites. In many markets, the service is comparatively cheap. For example, in Australia, a message typically costs between A$0.20 and $0.25 to send (some prepaid services charge $0.01 between their own phones), compared with a voice call, which costs somewhere between $0.40 and $2.00 per minute (commonly charged in half-minute blocks). The service is enormously profitable to the service providers. At a typical length of only 190 bytes (including protocol overhead), more than 350 of these messages per minute can be transmitted at the same data rate as a usual voice call (9 kbit/s). There are also free SMS services available, which are often sponsored, that allow sending[25] and receiving[26] SMS from a PC connected to the Internet. Mobile service providers in New Zealand, such as Vodafone and Telecom NZ, provide up to 2000 SMS messages for NZ$10 per month. Users on these plans send on average 1500 SMS messages every month. Text messaging has become so popular that advertising agencies and advertisers are now jumping into the text messaging business. Services that provide bulk text message sending are also becoming a popular way for clubs, associations, and advertisers to reach a group of opt-in subscribers quickly.\\\n",
    "Research suggests that Internet-based mobile messaging will have grown to equal the popularity of SMS in 2013, with nearly 10 trillion messages being sent through each technology.[27][28] Services such as Facebook Messenger, Snapchat, WhatsApp and Viber have led to a decline in the use of SMS in parts of the world.\\\n",
    "Research has shown that women are more likely than men to use emoticons in text messages.[29]\\\n",
    "The electrical telegraph systems, developed in the early 19th century, used simple electrical signals to send text messages. In the late 19th century, the wireless telegraphy was developed using radio waves. In 1933, the German Reichspost (Reich postal service) introduced the first \"telex\" service.\\\n",
    "The University of Hawaii began using radio to send digital information as early as 1971, using ALOHAnet.[citation needed] Friedhelm Hillebrand conceptualised SMS in 1984 while working for Deutsche Telekom. Sitting at a typewriter at home, Hillebrand typed out random sentences and counted every letter, number, punctuation, and space. Almost every time, the messages contained fewer than 160 characters, thus giving the basis for the limit one could type via text messaging.[4] With Bernard Ghillebaert of France Télécom, he developed a proposal for the GSM (Groupe Spécial Mobile) meeting in February 1985 in Oslo.[5] The first technical solution evolved in a GSM subgroup under the leadership of Finn Trosby. It was further developed under the leadership of Kevin Holley and Ian Harris (see Short Message Service).[6] SMS forms an integral part of Signalling System No. 7 (SS7).[7] Under SS7, it is a \"state\" with a 160 character data, coded in the ITU-T \"T.56\" text format, that has a \"sequence lead in\" to determine different language codes and may have special character codes that permit, for example, sending simple graphs as text. This was part of ISDN (Integrated Services Digital Network) and since GSM is based on this, it made its way to the mobile phone. Messages could be sent and received on ISDN phones, and these can send SMS to any GSM phone. The possibility of doing something is one thing, implementing it another, but systems existed from 1988 that sent SMS messages to mobile phones[citation needed] (compare ND-NOTIS).\\\n",
    "SMS messaging was used for the first time on 3 December 1992, when Neil Papworth, a 22-year-old test engineer for Sema Group in the UK[9] (now Airwide Solutions),[10] used a personal computer to send the text message \"Merry Christmas\" via the Vodafone network to the phone of Richard Jarvis,[11][12] who was at a party in Newbury, Berkshire, which had been organized to celebrate the event. Modern SMS text messaging is usually messaging from one mobile phone to another. Finnish Radiolinja became the first network to offer a commercial person-to-person SMS text messaging service in 1994. When Radiolinjas domestic competitor, Telecom Finland (now part of TeliaSonera) also launched SMS text messaging in 1995 and the two networks offered cross-network SMS functionality, Finland became the first nation where SMS text messaging was offered on a competitive as well as on a commercial basis. GSM was allowed[by whom?] in the United States and the radio frequencies were blocked and awarded to US \"Carriers\" to use US technology. Hence there is no \"development\" in the US in mobile messaging service. The GSM in the US had to use a frequency allocated for private communication services (PCS) – what the ITU frequency régime had blocked for DECT – Digital Enhanced Cordless Telecommunications – 1000-feet range picocell, but survived. American Personal Communications (APC), the first GSM carrier in America, provided the first text-messaging service in the United States. Sprint Telecommunications Venture, a partnership of Sprint Corp. and three large cable-TV companies, owned 49 percent of APC. The Sprint venture was the largest single buyer at a government-run spectrum auction that raised $7.7 billion in 2005 for PCS licenses. APC operated under the brand name of Sprint Spectrum and launched its service on 15 November 1995, in Washington, D.C. and in Baltimore, Maryland. Vice President Al Gore in Washington, D.C. made the initial phone-call to launch the network, calling Mayor Kurt Schmoke in Baltimore.[13]\\\n",
    "Initial growth of text messaging[where?] was slow, with customers in 1995 sending on average only 0.4 messages per GSM customer per month.[14] One factor in the slow take-up of SMS was that operators were slow to set up charging systems, especially for prepaid subscribers, and to eliminate billing fraud, which was possible by changing SMSC settings on individual handsets to use the SMSCs of other operators.[citation needed] Over time, this issue was eliminated by switch billing instead of billing at the SMSC and by new features within SMSCs to allow blocking of foreign mobile users sending messages through it.[citation needed] SMS is available on a wide range of networks, including 3G networks. However, not all text-messaging systems use SMS; some notable alternate implementations of the concept include J-Phones SkyMail and NTT Docomos Short Mail, both in Japan. E-mail messaging from phones, as popularized by NTT Docomos i-mode and the RIM BlackBerry, also typically use standard mail protocols such as SMTP over TCP/IP.[15] As of 2007 text messaging was the most widely used mobile data service, with 74% of all mobile phone users worldwide, or 2.4 billion out of 3.3 billion phone subscribers, at the end of 2007 being active users of the Short Message Service. In countries such as Finland, Sweden, and Norway, over 85% of the population use SMS. The European average is about 80%, and North America is rapidly catching up with over 60% active users of SMS by end of 2008.[citation needed] The largest average usage of the service by mobile phone subscribers occurs in the Philippines, with an average of 27 texts sent per day per subscriber.[citation needed]\\\n",
    "Uses[edit]\\\n",
    "A text message on an iPhone announcing an AMBER Alert\\\n",
    "Text messaging is most often used between private mobile phone users, as a substitute for voice calls in situations where voice communication is impossible or undesirable (e.g., during a school class or a work meeting). Texting is also used to communicate very brief messages, such as informing someone that you will be late or reminding a friend or colleague about a meeting. As with e-mail, informality and brevity have become an accepted part of text messaging. Some text messages such as SMS can also be used for the remote control of home appliances. It is widely used in domotics systems. Some amateurs have also built their own systems to control (some of) their appliances via SMS.[16][17] Other methods such as group messaging, which was patented in 2012 by the GM of Andrew Ferry, Devin Peterson, Justin Cowart, Ian Ainsworth, Patrick Messinger, Jacob Delk, Jack Grande, Austin Hughes, Brendan Blake, and Brooks Brasher are used to involve more than two people into a text messaging conversation[citation needed]. A Flash SMS is a type[18] of text message that appears directly on the main screen without user interaction and is not automatically stored in the inbox. It can be useful in cases such as an emergency (e.g., fire alarm) or confidentiality (e.g., one-time password).[19]\\\n",
    "Short message services are developing very rapidly throughout the world. SMS is particularly popular in Europe, Asia (excluding Japan; see below), United States, Australia, and New Zealand and is also gaining influence in Africa. Popularity has grown to a sufficient extent that the term texting (used as a verb meaning the act of mobile phone users sending short messages back and forth) has entered the common lexicon. Young Asians consider SMS as the most popular mobile phone application.[20] Fifty percent of American teens send fifty text messages or more per day, making it their most frequent form of communication.[21] In China, SMS is very popular and has brought service providers significant profit (18 billion short messages were sent in 2001).[22]\\\n",
    "It is a very influential and powerful tool in the Philippines, where the average user sends 10–12 text messages a day. The Philippines alone sends on average over 1 billion text messages a day,[23] more than the annual average SMS volume of the countries in Europe, and even China and India. SMS is hugely popular in India, where youngsters often exchange many text messages, and companies provide alerts, infotainment, news, cricket scores updates, railway/airline booking, mobile billing, and banking services on SMS.\\\n",
    "Similarly, in 2008, text messaging played a primary role in the implication of former Detroit Mayor Kwame Kilpatrick in an SMS sex scandal.[24] Short messages are particularly popular among young urbanites. In many markets, the service is comparatively cheap. For example, in Australia, a message typically costs between A$0.20 and $0.25 to send (some prepaid services charge $0.01 between their own phones), compared with a voice call, which costs somewhere between $0.40 and $2.00 per minute (commonly charged in half-minute blocks). The service is enormously profitable to the service providers. At a typical length of only 190 bytes (including protocol overhead), more than 350 of these messages per minute can be transmitted at the same data rate as a usual voice call (9 kbit/s). There are also free SMS services available, which are often sponsored, that allow sending[25] and receiving[26] SMS from a PC connected to the Internet. Mobile service providers in New Zealand, such as Vodafone and Telecom NZ, provide up to 2000 SMS messages for NZ$10 per month. Users on these plans send on average 1500 SMS messages every month. Text messaging has become so popular that advertising agencies and advertisers are now jumping into the text messaging business. Services that provide bulk text message sending are also becoming a popular way for clubs, associations, and advertisers to reach a group of opt-in subscribers quickly.\\\n",
    "Research suggests that Internet-based mobile messaging will have grown to equal the popularity of SMS in 2013, with nearly 10 trillion messages being sent through each technology.[27][28] Services such as Facebook Messenger, Snapchat, WhatsApp and Viber have led to a decline in the use of SMS in parts of the world.\\\n",
    "Research has shown that women are more likely than men to use emoticons in text messages.[29]'"
   ]
  },
  {
   "cell_type": "code",
   "execution_count": 3,
   "metadata": {},
   "outputs": [],
   "source": [
    "text = 'abcdefgh ijk'"
   ]
  },
  {
   "cell_type": "code",
   "execution_count": 11,
   "metadata": {},
   "outputs": [
    {
     "data": {
      "text/plain": [
       "30039"
      ]
     },
     "execution_count": 11,
     "metadata": {},
     "output_type": "execute_result"
    }
   ],
   "source": [
    "len(texts)"
   ]
  },
  {
   "cell_type": "code",
   "execution_count": 4,
   "metadata": {},
   "outputs": [
    {
     "name": "stdout",
     "output_type": "stream",
     "text": [
      "[[[0. 0. 0. 1. 0. 0. 0. 0. 0. 0.]\n",
      "  [0. 0. 0. 0. 0. 1. 0. 0. 0. 0.]\n",
      "  [0. 1. 0. 0. 0. 0. 0. 0. 0. 0.]]]\n"
     ]
    }
   ],
   "source": [
    "\n",
    "chars = tuple(set(texts))\n",
    "int2char = dict(enumerate(chars))\n",
    "char2int = {ch: ii for ii, ch in int2char.items()}\n",
    "\n",
    "# encode the text\n",
    "encoded = np.array([char2int[ch] for ch in texts])\n",
    "\n",
    "def one_hot_encode(arr, n_labels):\n",
    "    \n",
    "    # Initialize the the encoded array\n",
    "    one_hot = np.zeros((arr.size, n_labels), dtype=np.float32)\n",
    "    \n",
    "    # Fill the appropriate elements with ones\n",
    "    one_hot[np.arange(one_hot.shape[0]), arr.flatten()] = 1.\n",
    "    \n",
    "    # Finally reshape it to get back to the original array\n",
    "    one_hot = one_hot.reshape((*arr.shape, n_labels))\n",
    "    \n",
    "    return one_hot\n",
    "\n",
    "# check that the function works as expected\n",
    "test_seq = np.array([[3, 5, 1]])\n",
    "one_hot = one_hot_encode(test_seq, 10)\n",
    "\n",
    "print(one_hot)\n"
   ]
  },
  {
   "cell_type": "code",
   "execution_count": 5,
   "metadata": {},
   "outputs": [],
   "source": [
    "def get_batches(arr, batch_size, seq_length):\n",
    "    '''Create a generator that returns batches of size\n",
    "       batch_size x seq_length from arr.\n",
    "       \n",
    "       Arguments\n",
    "       ---------\n",
    "       arr: Array you want to make batches from\n",
    "       batch_size: Batch size, the number of sequences per batch\n",
    "       seq_length: Number of encoded chars in a sequence\n",
    "    '''\n",
    "    \n",
    "    batch_size_total = batch_size * seq_length\n",
    "    # total number of batches we can make\n",
    "    n_batches = len(arr)//batch_size_total\n",
    "    \n",
    "    # Keep only enough characters to make full batches\n",
    "    arr = arr[:n_batches * batch_size_total]\n",
    "    # Reshape into batch_size rows\n",
    "    arr = arr.reshape((batch_size, -1))\n",
    "    \n",
    "    # iterate through the array, one sequence at a time\n",
    "    for n in range(0, arr.shape[1], seq_length):\n",
    "        # The features\n",
    "        x = arr[:, n:n+seq_length]\n",
    "        # The targets, shifted by one\n",
    "        y = np.zeros_like(x)\n",
    "        try:\n",
    "            y[:, :-1], y[:, -1] = x[:, 1:], arr[:, n+seq_length]\n",
    "        except IndexError:\n",
    "            y[:, :-1], y[:, -1] = x[:, 1:], arr[:, 0]\n",
    "        yield x, y\n"
   ]
  },
  {
   "cell_type": "code",
   "execution_count": 31,
   "metadata": {},
   "outputs": [
    {
     "data": {
      "text/plain": [
       "array([[ 9,  8, 49, 50, 49,  5, 49,  2, 60, 59, 53,  2, 51,  5, 50, 60,\n",
       "        49,  5, 49, 73, 59, 51, 26,  8, 50, 25,  4, 25, 60, 49, 12, 25,\n",
       "        70],\n",
       "       [50, 61, 49, 64, 49,  5, 72, 26, 49, 61, 50, 53,  6, 50, 60,  8,\n",
       "        49, 50, 49, 51, 59,  5,  4, 50, 20,  0, 60,  8, 50,  2, 49,  6,\n",
       "        60],\n",
       "       [63, 59,  4, 70, 50, 63, 25, 49, 61, 50, 25, 53, 12, 26,  5, 49,\n",
       "        50, 49,  5, 49,  2, 60, 59, 53,  2, 51,  5, 50, 25, 53, 73,  6,\n",
       "        51],\n",
       "       [ 5, 25, 50, 60, 72, 50, 25, 49,  6, 61, 50, 60, 49, 18, 60, 50,\n",
       "        12, 49, 25, 25, 51, 73, 49, 25, 36, 50, 74,  6, 50, 60,  8, 49,\n",
       "        50],\n",
       "       [ 5, 51, 60, 49, 50, 20,  0, 60,  8, 50,  2, 49,  6, 60, 63, 59,\n",
       "         4, 70, 50, 60,  8, 49, 50, 10, 53, 59, 49,  5, 49, 25, 25, 50,\n",
       "        60],\n",
       "       [49,  5, 49, 73, 59, 51, 26,  8,  4, 50, 10, 51, 25, 50, 61, 49,\n",
       "        64, 49,  5, 72, 26, 49, 61, 50, 63, 25, 53,  6, 73, 50, 59, 51,\n",
       "        61],\n",
       "       [53, 72, 50, 10, 51, 64, 49, 25, 36, 50, 74,  6, 50, 20,  0, 48,\n",
       "        48, 70, 50, 60,  8, 49, 50, 27, 49, 59, 12, 51,  6, 50, 67, 49,\n",
       "        53],\n",
       "       [ 2,  8, 25, 26, 72, 25, 60, 50,  3, 67, 49, 53,  2,  8, 50, 26,\n",
       "        72, 25, 60, 51,  5, 50, 25, 49, 59, 64, 53,  2, 49,  7, 50, 53,\n",
       "         6],\n",
       "       [60, 59, 72, 61, 63,  2, 49, 61, 50, 60,  8, 49, 50, 33, 53, 59,\n",
       "        25, 60, 50, 38, 60, 49,  5, 49, 18, 38, 50, 25, 49, 59, 64, 53,\n",
       "         2],\n",
       "       [49, 36,  9,  8, 49, 50, 56,  6, 53, 64, 49, 59, 25, 53, 60,  4,\n",
       "        50, 72, 33, 50, 21, 51, 10, 51, 53, 53, 50, 44, 49, 73, 51,  6,\n",
       "        50],\n",
       "       [63, 25, 53,  6, 73, 50, 59, 51, 61, 53, 72, 50, 60, 72, 50, 25,\n",
       "        49,  6, 61, 50, 61, 53, 73, 53, 60, 51,  5, 50, 53,  6, 33, 72,\n",
       "        59],\n",
       "       [12, 51, 60, 53, 72,  6, 50, 51, 25, 50, 49, 51, 59,  5,  4, 50,\n",
       "        51, 25, 50, 20,  0, 47, 20, 70, 50, 63, 25, 53,  6, 73, 50, 22,\n",
       "        45]])"
      ]
     },
     "execution_count": 31,
     "metadata": {},
     "output_type": "execute_result"
    }
   ],
   "source": [
    "a = encoded[:500]\n",
    "batch = 12\n",
    "seq = 11\n",
    "bt = batch * seq\n",
    "tb = len(a)//bt\n",
    "b = a[:tb * bt]\n",
    "b = b.reshape(batch,-1)\n",
    "b"
   ]
  },
  {
   "cell_type": "code",
   "execution_count": 35,
   "metadata": {},
   "outputs": [
    {
     "name": "stdout",
     "output_type": "stream",
     "text": [
      "500\n",
      "[ 9  8 49 50 49  5 49  2 60 59 53  2 51  5 50 60 49  5 49 73 59 51 26  8\n",
      " 50 25  4 25 60 49 12 25 70 50 61 49 64 49  5 72 26 49 61 50 53  6 50 60\n",
      "  8 49 50 49 51 59  5  4 50 20  0 60  8 50  2 49  6 60 63 59  4 70 50 63\n",
      " 25 49 61 50 25 53 12 26  5 49 50 49  5 49  2 60 59 53  2 51  5 50 25 53\n",
      " 73  6 51  5 25 50 60 72 50 25 49  6 61 50 60 49 18 60 50 12 49 25 25 51\n",
      " 73 49 25 36 50 74  6 50 60  8 49 50  5 51 60 49 50 20  0 60  8 50  2 49\n",
      "  6 60 63 59  4 70 50 60  8 49 50 10 53 59 49  5 49 25 25 50 60 49  5 49\n",
      " 73 59 51 26  8  4 50 10 51 25 50 61 49 64 49  5 72 26 49 61 50 63 25 53\n",
      "  6 73 50 59 51 61 53 72]\n",
      "x\n",
      " [[ 9  8 49 50 49  5 49  2 60 59 53]\n",
      " [50 61 49 64 49  5 72 26 49 61 50]\n",
      " [63 59  4 70 50 63 25 49 61 50 25]\n",
      " [ 5 25 50 60 72 50 25 49  6 61 50]\n",
      " [ 5 51 60 49 50 20  0 60  8 50  2]\n",
      " [49  5 49 73 59 51 26  8  4 50 10]\n",
      " [53 72 50 10 51 64 49 25 36 50 74]\n",
      " [ 2  8 25 26 72 25 60 50  3 67 49]\n",
      " [60 59 72 61 63  2 49 61 50 60  8]\n",
      " [49 36  9  8 49 50 56  6 53 64 49]\n",
      " [63 25 53  6 73 50 59 51 61 53 72]\n",
      " [12 51 60 53 72  6 50 51 25 50 49]]\n",
      "\n",
      "y\n",
      " [[ 8 49 50 49  5 49  2 60 59 53  2]\n",
      " [61 49 64 49  5 72 26 49 61 50 53]\n",
      " [59  4 70 50 63 25 49 61 50 25 53]\n",
      " [25 50 60 72 50 25 49  6 61 50 60]\n",
      " [51 60 49 50 20  0 60  8 50  2 49]\n",
      " [ 5 49 73 59 51 26  8  4 50 10 51]\n",
      " [72 50 10 51 64 49 25 36 50 74  6]\n",
      " [ 8 25 26 72 25 60 50  3 67 49 53]\n",
      " [59 72 61 63  2 49 61 50 60  8 49]\n",
      " [36  9  8 49 50 56  6 53 64 49 59]\n",
      " [25 53  6 73 50 59 51 61 53 72 50]\n",
      " [51 60 53 72  6 50 51 25 50 49 51]]\n",
      "x\n",
      " [[ 2 51  5 50 60 49  5 49 73 59 51]\n",
      " [53  6 50 60  8 49 50 49 51 59  5]\n",
      " [53 12 26  5 49 50 49  5 49  2 60]\n",
      " [60 49 18 60 50 12 49 25 25 51 73]\n",
      " [49  6 60 63 59  4 70 50 60  8 49]\n",
      " [51 25 50 61 49 64 49  5 72 26 49]\n",
      " [ 6 50 20  0 48 48 70 50 60  8 49]\n",
      " [53  2  8 50 26 72 25 60 51  5 50]\n",
      " [49 50 33 53 59 25 60 50 38 60 49]\n",
      " [59 25 53 60  4 50 72 33 50 21 51]\n",
      " [50 60 72 50 25 49  6 61 50 61 53]\n",
      " [51 59  5  4 50 51 25 50 20  0 47]]\n",
      "\n",
      "y\n",
      " [[51  5 50 60 49  5 49 73 59 51 26]\n",
      " [ 6 50 60  8 49 50 49 51 59  5  4]\n",
      " [12 26  5 49 50 49  5 49  2 60 59]\n",
      " [49 18 60 50 12 49 25 25 51 73 49]\n",
      " [ 6 60 63 59  4 70 50 60  8 49 50]\n",
      " [25 50 61 49 64 49  5 72 26 49 61]\n",
      " [50 20  0 48 48 70 50 60  8 49 50]\n",
      " [ 2  8 50 26 72 25 60 51  5 50 25]\n",
      " [50 33 53 59 25 60 50 38 60 49  5]\n",
      " [25 53 60  4 50 72 33 50 21 51 10]\n",
      " [60 72 50 25 49  6 61 50 61 53 73]\n",
      " [59  5  4 50 51 25 50 20  0 47 20]]\n",
      "x\n",
      " [[26  8 50 25  4 25 60 49 12 25 70]\n",
      " [ 4 50 20  0 60  8 50  2 49  6 60]\n",
      " [59 53  2 51  5 50 25 53 73  6 51]\n",
      " [49 25 36 50 74  6 50 60  8 49 50]\n",
      " [50 10 53 59 49  5 49 25 25 50 60]\n",
      " [61 50 63 25 53  6 73 50 59 51 61]\n",
      " [50 27 49 59 12 51  6 50 67 49 53]\n",
      " [25 49 59 64 53  2 49  7 50 53  6]\n",
      " [ 5 49 18 38 50 25 49 59 64 53  2]\n",
      " [10 51 53 53 50 44 49 73 51  6 50]\n",
      " [73 53 60 51  5 50 53  6 33 72 59]\n",
      " [20 70 50 63 25 53  6 73 50 22 45]]\n",
      "\n",
      "y\n",
      " [[ 8 50 25  4 25 60 49 12 25 70  9]\n",
      " [50 20  0 60  8 50  2 49  6 60 50]\n",
      " [53  2 51  5 50 25 53 73  6 51 63]\n",
      " [25 36 50 74  6 50 60  8 49 50  5]\n",
      " [10 53 59 49  5 49 25 25 50 60  5]\n",
      " [50 63 25 53  6 73 50 59 51 61 49]\n",
      " [27 49 59 12 51  6 50 67 49 53 53]\n",
      " [49 59 64 53  2 49  7 50 53  6  2]\n",
      " [49 18 38 50 25 49 59 64 53  2 60]\n",
      " [51 53 53 50 44 49 73 51  6 50 49]\n",
      " [53 60 51  5 50 53  6 33 72 59 63]\n",
      " [70 50 63 25 53  6 73 50 22 45 12]]\n"
     ]
    }
   ],
   "source": [
    "batches = get_batches(a , 12, 11)\n",
    "#x, y = next(batches)\n",
    "\n",
    "print(len(a))\n",
    "print(a[:200])\n",
    "    \n",
    "for x, y in batches:\n",
    "# printing out the first 10 items in a sequence\n",
    "    print('x\\n', x[:, :100])\n",
    "    print('\\ny\\n', y[:, :100])"
   ]
  },
  {
   "cell_type": "code",
   "execution_count": 7,
   "metadata": {},
   "outputs": [
    {
     "ename": "StopIteration",
     "evalue": "",
     "output_type": "error",
     "traceback": [
      "\u001b[0;31m---------------------------------------------------------------------------\u001b[0m",
      "\u001b[0;31mStopIteration\u001b[0m                             Traceback (most recent call last)",
      "\u001b[0;32m<ipython-input-7-8edf3a45f839>\u001b[0m in \u001b[0;36m<module>\u001b[0;34m\u001b[0m\n\u001b[1;32m      1\u001b[0m \u001b[0mbatches2\u001b[0m \u001b[0;34m=\u001b[0m \u001b[0mget_batches\u001b[0m\u001b[0;34m(\u001b[0m\u001b[0mencoded\u001b[0m\u001b[0;34m[\u001b[0m\u001b[0;36m23640\u001b[0m\u001b[0;34m:\u001b[0m\u001b[0;34m]\u001b[0m\u001b[0;34m,\u001b[0m \u001b[0;36m64\u001b[0m\u001b[0;34m,\u001b[0m \u001b[0;36m100\u001b[0m\u001b[0;34m)\u001b[0m\u001b[0;34m\u001b[0m\u001b[0;34m\u001b[0m\u001b[0m\n\u001b[0;32m----> 2\u001b[0;31m \u001b[0mx\u001b[0m\u001b[0;34m,\u001b[0m \u001b[0my\u001b[0m \u001b[0;34m=\u001b[0m \u001b[0mnext\u001b[0m\u001b[0;34m(\u001b[0m\u001b[0mbatches2\u001b[0m\u001b[0;34m)\u001b[0m\u001b[0;34m\u001b[0m\u001b[0;34m\u001b[0m\u001b[0m\n\u001b[0m\u001b[1;32m      3\u001b[0m \u001b[0;34m\u001b[0m\u001b[0m\n\u001b[1;32m      4\u001b[0m \u001b[0;31m# printing out the first 10 items in a sequence\u001b[0m\u001b[0;34m\u001b[0m\u001b[0;34m\u001b[0m\u001b[0;34m\u001b[0m\u001b[0m\n\u001b[1;32m      5\u001b[0m \u001b[0mprint\u001b[0m\u001b[0;34m(\u001b[0m\u001b[0;34m'x\\n'\u001b[0m\u001b[0;34m,\u001b[0m \u001b[0mx\u001b[0m\u001b[0;34m[\u001b[0m\u001b[0;34m:\u001b[0m\u001b[0;36m10\u001b[0m\u001b[0;34m,\u001b[0m \u001b[0;34m:\u001b[0m\u001b[0;36m100\u001b[0m\u001b[0;34m]\u001b[0m\u001b[0;34m)\u001b[0m\u001b[0;34m\u001b[0m\u001b[0;34m\u001b[0m\u001b[0m\n",
      "\u001b[0;31mStopIteration\u001b[0m: "
     ]
    }
   ],
   "source": [
    "batches2 = get_batches(encoded[23640:], 64, 100)\n",
    "x, y = next(batches2)\n",
    "\n",
    "# printing out the first 10 items in a sequence\n",
    "print('x\\n', x[:10, :100])\n",
    "print('\\ny\\n', y[:10, :100])"
   ]
  },
  {
   "cell_type": "code",
   "execution_count": 8,
   "metadata": {},
   "outputs": [
    {
     "data": {
      "text/plain": [
       "array([[0, 0, 0, ..., 0, 0, 0],\n",
       "       [0, 0, 0, ..., 0, 0, 0],\n",
       "       [0, 0, 0, ..., 0, 0, 0],\n",
       "       ...,\n",
       "       [0, 0, 0, ..., 0, 0, 0],\n",
       "       [0, 0, 0, ..., 0, 0, 0],\n",
       "       [0, 0, 0, ..., 0, 0, 0]])"
      ]
     },
     "execution_count": 8,
     "metadata": {},
     "output_type": "execute_result"
    }
   ],
   "source": [
    "np.zeros_like(x)"
   ]
  },
  {
   "cell_type": "code",
   "execution_count": 74,
   "metadata": {},
   "outputs": [],
   "source": [
    "class CharRNN(nn.Module):\n",
    "    \n",
    "    def __init__(self, tokens, n_hidden=256, n_layers=2,\n",
    "                               drop_prob=0.5, lr=0.001):\n",
    "        super().__init__()\n",
    "        self.drop_prob = drop_prob\n",
    "        self.n_layers = n_layers\n",
    "        self.n_hidden = n_hidden\n",
    "        self.lr = lr\n",
    "        \n",
    "        # creating character dictionaries\n",
    "        self.chars = tokens\n",
    "        self.int2char = dict(enumerate(self.chars))\n",
    "        self.char2int = {ch: ii for ii, ch in self.int2char.items()}\n",
    "        \n",
    "        ## TODO: define the LSTM\n",
    "        self.lstm = nn.LSTM(len(self.chars), n_hidden, n_layers, \n",
    "                            dropout=drop_prob, batch_first=True)\n",
    "        \n",
    "        ## TODO: define a dropout layer\n",
    "        self.dropout = nn.Dropout(drop_prob)\n",
    "        \n",
    "        ## TODO: define the final, fully-connected output layer\n",
    "        self.fc = nn.Linear(n_hidden, len(self.chars))\n",
    "      \n",
    "    \n",
    "    def forward(self, x, hidden):\n",
    "        ''' Forward pass through the network. \n",
    "            These inputs are x, and the hidden/cell state `hidden`. '''\n",
    "                \n",
    "        ## TODO: Get the outputs and the new hidden state from the lstm\n",
    "        r_output, hidden = self.lstm(x, hidden)\n",
    "        \n",
    "        ## TODO: pass through a dropout layer\n",
    "        out = self.dropout(r_output)\n",
    "        \n",
    "        # Stack up LSTM outputs using view\n",
    "        # you may need to use contiguous to reshape the output\n",
    "        out = out.contiguous().view(-1, self.n_hidden)\n",
    "        \n",
    "        ## TODO: put x through the fully-connected layer\n",
    "        out = self.fc(out)\n",
    "        \n",
    "        # return the final output and the hidden state\n",
    "        return out, hidden\n",
    "    \n",
    "    \n",
    "    def init_hidden(self, batch_size):\n",
    "        ''' Initializes hidden state '''\n",
    "        # Create two new tensors with sizes n_layers x batch_size x n_hidden,\n",
    "        # initialized to zero, for hidden state and cell state of LSTM\n",
    "        weight = next(self.parameters()).data\n",
    "        \n",
    "        #if (train_on_gpu):\n",
    "        #    hidden = (weight.new(self.n_layers, batch_size, self.n_hidden).zero_().cuda(),\n",
    "        #          weight.new(self.n_layers, batch_size, self.n_hidden).zero_().cuda())\n",
    "        #else:\n",
    "        hidden = (weight.new(self.n_layers, batch_size, self.n_hidden).zero_(),\n",
    "                  weight.new(self.n_layers, batch_size, self.n_hidden).zero_())\n",
    "        print('h initiallllllllllllllllllllllllllllllllllllllllll 1 tuple:', hidden[0].shape)\n",
    "        print('h initiallllllllllllllllllllllllllllllllllllllllll 2 tuple:', hidden[1].shape)\n",
    "        \n",
    "        return hidden\n"
   ]
  },
  {
   "cell_type": "code",
   "execution_count": 91,
   "metadata": {},
   "outputs": [],
   "source": [
    "def train(net, data, epochs=10, batch_size=10, seq_length=50, lr=0.001, clip=5, val_frac=0.15, print_every=1):\n",
    "    ''' Training a network \n",
    "    \n",
    "        Arguments\n",
    "        ---------\n",
    "        \n",
    "        net: CharRNN network\n",
    "        data: text data to train the network\n",
    "        epochs: Number of epochs to train\n",
    "        batch_size: Number of mini-sequences per mini-batch, aka batch size\n",
    "        seq_length: Number of character steps per mini-batch\n",
    "        lr: learning rate\n",
    "        clip: gradient clipping\n",
    "        val_frac: Fraction of data to hold out for validation\n",
    "        print_every: Number of steps for printing training and validation loss\n",
    "    \n",
    "    '''\n",
    "    net.train()\n",
    "    \n",
    "    opt = torch.optim.Adam(net.parameters(), lr=lr)\n",
    "    criterion = nn.CrossEntropyLoss()\n",
    "    \n",
    "    # create training and validation data\n",
    "    val_idx = int(len(data)*(1-val_frac))\n",
    "    data, val_data = data[:val_idx], data[val_idx:]\n",
    "    \n",
    "    #if(train_on_gpu):\n",
    "    #    net.cuda()\n",
    "    \n",
    "    counter = 0\n",
    "    n_chars = len(net.chars)\n",
    "    for e in range(epochs):\n",
    "        # initialize hidden state\n",
    "        h = net.init_hidden(batch_size)\n",
    "        #x, y = get_batches(data, batch_size, seq_length)\n",
    "        for x, y in get_batches(data, batch_size, seq_length):\n",
    "            counter += 1\n",
    "            # One-hot encode our data and make them Torch tensors\n",
    "            x = one_hot_encode(x, n_chars)\n",
    "            inputs, targets = torch.from_numpy(x), torch.from_numpy(y)\n",
    "            \n",
    "            #if(train_on_gpu):\n",
    "            #    inputs, targets = inputs.cuda(), targets.cuda()\n",
    "\n",
    "            # Creating new variables for the hidden state, otherwise\n",
    "            # we'd backprop through the entire training history\n",
    "            h = tuple([each.data for each in h])\n",
    "\n",
    "            # zero accumulated gradients\n",
    "            net.zero_grad()\n",
    "            \n",
    "            # get the output from the model\n",
    "            output, h = net(inputs, h)\n",
    "            \n",
    "            # calculate the loss and perform backprop\n",
    "            loss = criterion(output, targets.view(batch_size*seq_length).long())\n",
    "            loss.backward()\n",
    "            # `clip_grad_norm` helps prevent the exploding gradient problem in RNNs / LSTMs.\n",
    "            nn.utils.clip_grad_norm_(net.parameters(), clip)\n",
    "            opt.step()\n",
    "            \n",
    "            # loss stats\n",
    "            if counter % print_every == 0:\n",
    "                # Get validation loss\n",
    "                val_h = net.init_hidden(batch_size)\n",
    "                val_losses = []\n",
    "                net.eval()\n",
    "                print(val_data.shape, batch_size, seq_length)\n",
    "                for x, y in get_batches(val_data, batch_size, seq_length):\n",
    "                    # One-hot encode our data and make them Torch tensors\n",
    "                    x = one_hot_encode(x, n_chars)\n",
    "                    inputs, targets = torch.from_numpy(x), torch.from_numpy(y)\n",
    "                    \n",
    "                    # Creating new variables for the hidden state, otherwise\n",
    "                    # we'd backprop through the entire training history\n",
    "                    val_h = tuple([each.data for each in val_h])\n",
    "                    \n",
    "                    #inputs, targets = x, y\n",
    "                    #if(train_on_gpu):\n",
    "                    #    inputs, targets = inputs.cuda(), targets.cuda()\n",
    "\n",
    "                    output, val_h = net(inputs, val_h)\n",
    "                    val_loss = criterion(output, targets.view(batch_size*seq_length).long())\n",
    "                \n",
    "                    val_losses.append(val_loss.item())\n",
    "                \n",
    "                net.train() # reset to train mode after iterationg through validation data\n",
    "                \n",
    "                print(\"Epoch: {}/{}...\".format(e+1, epochs),\n",
    "                      \"Step: {}...\".format(counter),\n",
    "                      \"Loss: {:.4f}...\".format(loss.item()),\n",
    "                      \"Val Loss: {:.4f}\".format(np.mean(val_losses)))"
   ]
  },
  {
   "cell_type": "code",
   "execution_count": 92,
   "metadata": {},
   "outputs": [
    {
     "name": "stdout",
     "output_type": "stream",
     "text": [
      "CharRNN(\n",
      "  (lstm): LSTM(76, 512, num_layers=3, batch_first=True, dropout=0.5)\n",
      "  (dropout): Dropout(p=0.5, inplace=False)\n",
      "  (fc): Linear(in_features=512, out_features=76, bias=True)\n",
      ")\n",
      "h initiallllllllllllllllllllllllllllllllllllllllll 1 tuple: torch.Size([3, 20, 512])\n",
      "h initiallllllllllllllllllllllllllllllllllllllllll 2 tuple: torch.Size([3, 20, 512])\n",
      "h initiallllllllllllllllllllllllllllllllllllllllll 1 tuple: torch.Size([3, 20, 512])\n",
      "h initiallllllllllllllllllllllllllllllllllllllllll 2 tuple: torch.Size([3, 20, 512])\n",
      "(4506,) 20 50\n",
      "Epoch: 1/2... Step: 10... Loss: 3.2798... Val Loss: 3.2353\n",
      "h initiallllllllllllllllllllllllllllllllllllllllll 1 tuple: torch.Size([3, 20, 512])\n",
      "h initiallllllllllllllllllllllllllllllllllllllllll 2 tuple: torch.Size([3, 20, 512])\n",
      "(4506,) 20 50\n",
      "Epoch: 1/2... Step: 20... Loss: 3.2196... Val Loss: 3.2134\n",
      "h initiallllllllllllllllllllllllllllllllllllllllll 1 tuple: torch.Size([3, 20, 512])\n",
      "h initiallllllllllllllllllllllllllllllllllllllllll 2 tuple: torch.Size([3, 20, 512])\n",
      "h initiallllllllllllllllllllllllllllllllllllllllll 1 tuple: torch.Size([3, 20, 512])\n",
      "h initiallllllllllllllllllllllllllllllllllllllllll 2 tuple: torch.Size([3, 20, 512])\n",
      "(4506,) 20 50\n",
      "Epoch: 2/2... Step: 30... Loss: 3.3561... Val Loss: 3.2114\n",
      "h initiallllllllllllllllllllllllllllllllllllllllll 1 tuple: torch.Size([3, 20, 512])\n",
      "h initiallllllllllllllllllllllllllllllllllllllllll 2 tuple: torch.Size([3, 20, 512])\n",
      "(4506,) 20 50\n",
      "Epoch: 2/2... Step: 40... Loss: 3.2129... Val Loss: 3.2095\n",
      "h initiallllllllllllllllllllllllllllllllllllllllll 1 tuple: torch.Size([3, 20, 512])\n",
      "h initiallllllllllllllllllllllllllllllllllllllllll 2 tuple: torch.Size([3, 20, 512])\n",
      "(4506,) 20 50\n",
      "Epoch: 2/2... Step: 50... Loss: 3.2558... Val Loss: 3.2028\n"
     ]
    }
   ],
   "source": [
    "# define and print the net\n",
    "n_hidden=512\n",
    "n_layers=3\n",
    "\n",
    "net = CharRNN(chars, n_hidden, n_layers)\n",
    "print(net)\n",
    "\n",
    "batch_size = 20\n",
    "seq_length = 50\n",
    "n_epochs = 2 # start smaller if you are just testing initial behavior\n",
    "\n",
    "# train the model\n",
    "train(net, encoded, epochs=n_epochs, batch_size=batch_size, seq_length=seq_length, lr=0.001, print_every=10)\n"
   ]
  },
  {
   "cell_type": "code",
   "execution_count": 47,
   "metadata": {},
   "outputs": [],
   "source": [
    "def predict(net, char, h=None, top_k=None):\n",
    "        ''' Given a character, predict the next character.\n",
    "            Returns the predicted character and the hidden state.\n",
    "        '''\n",
    "        \n",
    "        # tensor inputs\n",
    "        x = np.array([[net.char2int[char]]])\n",
    "        x = one_hot_encode(x, len(net.chars))\n",
    "        inputs = torch.from_numpy(x)\n",
    "        \n",
    "        #if(train_on_gpu):\n",
    "        #    inputs = inputs.cuda()\n",
    "        \n",
    "        # detach hidden state from history\n",
    "        h = tuple([each.data for each in h])\n",
    "        # get the output of the model\n",
    "        out, h = net(inputs, h)\n",
    "\n",
    "        # get the character probabilities\n",
    "        p = F.softmax(out, dim=1).data\n",
    "        #if(train_on_gpu):\n",
    "        #    p = p.cpu() # move to cpu\n",
    "        \n",
    "        # get top characters\n",
    "        if top_k is None:\n",
    "            top_ch = np.arange(len(net.chars))\n",
    "        else:\n",
    "            p, top_ch = p.topk(top_k)\n",
    "            top_ch = top_ch.numpy().squeeze()\n",
    "        \n",
    "        # select the likely next character with some element of randomness\n",
    "        p = p.numpy().squeeze()\n",
    "        char = np.random.choice(top_ch, p=p/p.sum())\n",
    "        \n",
    "        # return the encoded value of the predicted char and the hidden state\n",
    "        return net.int2char[char], h\n"
   ]
  },
  {
   "cell_type": "code",
   "execution_count": 35,
   "metadata": {},
   "outputs": [
    {
     "name": "stdout",
     "output_type": "stream",
     "text": [
      "In cawtits user syithar moilenging asared on the an libling as ef SoS mat sanined fo sete an teet. centang as a wort messing os in is bla lebt user berring in the elilt in bipling on a corme cabce subs an Averipe prosided the first text-messaging service in the Ui te the Uu hed SM  an the GMU fed the rISMgu lentirg on imiill oseydang for moicil pessing sublion Kore, and ranle coblane Tor pompiniles sich an Finlard, Sweden, and Norway, over 85% ofver op operinale worepess in 1994. When Radiolinjas domestic competitor, Telecom Finland (now part of Teerrag sy secotol ussor wuy to send migite network is ofher SM. an the GMU oserd Averite in Avericay 19th century, the wireles telegraphy was developed using radios sath ressing to cobtrol an the elin text messaging. Text messagisg is use sady nat of Speves Spnute Spéchine Telicome the sagile betwa suiverg badio the first netiol to her SMS text messaging is usually messaging from one mobile phone as a punttricon us netw loth a cartinn cert set for ue chargines systems (196  netwary, the wireless telegraphy was developed using radios sath res sot che compunicet is n worty an sertipg sanl nutomen, and awaride al tous te pend te thar a perator compute to send the text message \"Merry Christmas\" via the Vodafone network ) moran peroor manise sloccal an anderkh an Hauley the evinile nadeor anco f Seme Bertary wos the largest single buyer at a governm-mes alit topelalis by most en the papilitite by of SMS by end of 2008.[citation needed] The largest average usage of the first pemilin orou dersing a to end of calleng bestemes and ewaved to celbortet the event of Riceard Jarlis,[11][12] who was at a party en Newbury, Berkshire, which had been orgt canling sinpened and anderd tr n NTrBomomes Shott, in tapec. Es chang sert seteme beissing for a the rode necweres an Rogher the parting in ueet rraging of doing something is one dob cact an avert. In wait renth of text messaging. Seme text messages such as SMS can lerth zab tor the first \"eto\n"
     ]
    }
   ],
   "source": [
    "def sample(net, size, prime='The', top_k=None):\n",
    "        \n",
    "    #if(train_on_gpu):\n",
    "    #    net.cuda()\n",
    "    #else:\n",
    "    #    net.cpu()\n",
    "    \n",
    "    net.eval() # eval mode\n",
    "    \n",
    "    # First off, run through the prime characters\n",
    "    chars = [ch for ch in prime]\n",
    "    h = net.init_hidden(1)\n",
    "    for ch in prime:\n",
    "        char, h = predict(net, ch, h, top_k=top_k)\n",
    "\n",
    "    chars.append(char)\n",
    "    \n",
    "    # Now pass in the previous character and get a new one\n",
    "    for ii in range(size):\n",
    "        char, h = predict(net, chars[-1], h, top_k=top_k)\n",
    "        chars.append(char)\n",
    "\n",
    "    return ''.join(chars)\n",
    "\n",
    "print(sample(net, 2000, prime='In ', top_k=75))\n"
   ]
  },
  {
   "cell_type": "raw",
   "metadata": {},
   "source": [
    "In cawtits user syithar moilenging asared on the an libling as ef SoS mat sanined fo sete an teet. centang as a wort messing os in is bla lebt user berring in the elilt in bipling on a corme cabce subs an Averipe prosided the first text-messaging service in the Ui te the Uu hed SM  an the GMU fed the rISMgu lentirg on imiill oseydang for moicil pessing sublion Kore, and ranle coblane Tor pompiniles sich an Finlard, Sweden, and Norway, over 85% ofver op operinale worepess in 1994. When Radiolinjas domestic competitor, Telecom Finland (now part of Teerrag sy secotol ussor wuy to send migite network is ofher SM. an the GMU oserd Averite in Avericay 19th century, the wireles telegraphy was developed using radios sath ressing to cobtrol an the elin text messaging. Text messagisg is use sady nat of Speves Spnute Spéchine Telicome the sagile betwa suiverg badio the first netiol to her SMS text messaging is usually messaging from one mobile phone as a punttricon us netw loth a cartinn cert set for ue chargines systems (196  netwary, the wireless telegraphy was developed using radios sath res sot che compunicet is n worty an sertipg sanl nutomen, and awaride al tous te pend te thar a perator compute to send the text message \"Merry Christmas\" via the Vodafone network ) moran peroor manise sloccal an anderkh an Hauley the evinile nadeor anco f Seme Bertary wos the largest single buyer at a governm-mes alit topelalis by most en the papilitite by of SMS by end of 2008.[citation needed] The largest average usage of the first pemilin orou dersing a to end of calleng bestemes and ewaved to celbortet the event of Riceard Jarlis,[11][12] who was at a party en Newbury, Berkshire, which had been orgt canling sinpened and anderd tr n NTrBomomes Shott, in tapec. Es chang sert seteme beissing for a the rode necweres an Rogher the parting in ueet rraging of doing something is one dob cact an avert. In wait renth of text messaging. Seme text messages such as SMS can lerth zab tor the first \"eto"
   ]
  },
  {
   "cell_type": "code",
   "execution_count": 124,
   "metadata": {},
   "outputs": [
    {
     "data": {
      "text/plain": [
       "array([22, 24, 70, ..., 13, 41, 38])"
      ]
     },
     "execution_count": 124,
     "metadata": {},
     "output_type": "execute_result"
    }
   ],
   "source": [
    "encoded"
   ]
  },
  {
   "cell_type": "code",
   "execution_count": 67,
   "metadata": {},
   "outputs": [],
   "source": [
    "loss = nn.CrossEntropyLoss()\n",
    "input = torch.randn(3, 5, requires_grad=True)\n",
    "target = torch.empty(3, dtype=torch.long).random_(5)\n",
    "output = loss(input, target)\n",
    "output.backward()"
   ]
  },
  {
   "cell_type": "code",
   "execution_count": 68,
   "metadata": {},
   "outputs": [
    {
     "data": {
      "text/plain": [
       "torch.Size([3, 5])"
      ]
     },
     "execution_count": 68,
     "metadata": {},
     "output_type": "execute_result"
    }
   ],
   "source": [
    "input.shape"
   ]
  },
  {
   "cell_type": "code",
   "execution_count": 69,
   "metadata": {},
   "outputs": [
    {
     "data": {
      "text/plain": [
       "torch.Size([3])"
      ]
     },
     "execution_count": 69,
     "metadata": {},
     "output_type": "execute_result"
    }
   ],
   "source": [
    "target.shape"
   ]
  },
  {
   "cell_type": "code",
   "execution_count": 70,
   "metadata": {},
   "outputs": [
    {
     "data": {
      "text/plain": [
       "tensor([[-0.4192, -0.7465, -0.1437,  0.0296,  0.3515],\n",
       "        [-0.6168,  0.1202,  0.6278, -0.3241, -0.0210],\n",
       "        [-2.1664,  0.9830, -0.3004, -0.1873, -1.0456]], requires_grad=True)"
      ]
     },
     "execution_count": 70,
     "metadata": {},
     "output_type": "execute_result"
    }
   ],
   "source": [
    "input"
   ]
  },
  {
   "cell_type": "code",
   "execution_count": 71,
   "metadata": {},
   "outputs": [
    {
     "data": {
      "text/plain": [
       "tensor([1, 2, 2])"
      ]
     },
     "execution_count": 71,
     "metadata": {},
     "output_type": "execute_result"
    }
   ],
   "source": [
    "target"
   ]
  },
  {
   "cell_type": "code",
   "execution_count": 72,
   "metadata": {},
   "outputs": [
    {
     "data": {
      "text/plain": [
       "tensor(1.7060, grad_fn=<NllLossBackward>)"
      ]
     },
     "execution_count": 72,
     "metadata": {},
     "output_type": "execute_result"
    }
   ],
   "source": [
    "output"
   ]
  },
  {
   "cell_type": "code",
   "execution_count": null,
   "metadata": {},
   "outputs": [],
   "source": []
  }
 ],
 "metadata": {
  "kernelspec": {
   "display_name": "Python 3",
   "language": "python",
   "name": "python3"
  },
  "language_info": {
   "codemirror_mode": {
    "name": "ipython",
    "version": 3
   },
   "file_extension": ".py",
   "mimetype": "text/x-python",
   "name": "python",
   "nbconvert_exporter": "python",
   "pygments_lexer": "ipython3",
   "version": "3.8.5"
  }
 },
 "nbformat": 4,
 "nbformat_minor": 4
}
